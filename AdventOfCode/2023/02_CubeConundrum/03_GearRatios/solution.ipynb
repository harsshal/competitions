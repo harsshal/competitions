{
 "cells": [
  {
   "cell_type": "code",
   "execution_count": 18,
   "metadata": {},
   "outputs": [],
   "source": [
    "/ https://adventofcode.com/2023/day/3"
   ]
  },
  {
   "cell_type": "code",
   "execution_count": 2,
   "metadata": {},
   "outputs": [
    {
     "data": {
      "text/plain": [
       "\"467..114..\"\n",
       "\"...*......\"\n",
       "\"..35..633.\"\n",
       "\"......#...\"\n",
       "\"617*......\"\n",
       "\".....+.58.\"\n",
       "\"..592.....\"\n",
       "\"......755.\"\n",
       "\"...$.*....\"\n",
       "\".664.598..\"\n"
      ]
     },
     "execution_count": 2,
     "metadata": {},
     "output_type": "execute_result"
    }
   ],
   "source": [
    "data: read0 `:/lxhome/patilhar/notebooks/templates/q/competitions/AdventOfCode/2023/03_GearRatios/sample_input.txt\n",
    "/data: read0 `:/lxhome/patilhar/notebooks/templates/q/competitions/AdventOfCode/2023/03_GearRatios/final_input.txt\n",
    "data"
   ]
  },
  {
   "cell_type": "code",
   "execution_count": 3,
   "metadata": {},
   "outputs": [
    {
     "data": {
      "text/plain": [
       "0 1 2 5 6 7\n",
       "`long$()\n",
       "2 3 6 7 8\n",
       "`long$()\n",
       "0 1 2\n",
       "7 8\n",
       "2 3 4\n",
       "6 7 8\n",
       "`long$()\n",
       "1 2 3 5 6 7\n"
      ]
     },
     "execution_count": 3,
     "metadata": {},
     "output_type": "execute_result"
    }
   ],
   "source": [
    "is_digit: where '[data within 48 58]\n",
    "is_digit"
   ]
  },
  {
   "cell_type": "code",
   "execution_count": 4,
   "metadata": {},
   "outputs": [
    {
     "data": {
      "text/plain": [
       "1 3\n",
       "3 6\n",
       "4 3\n",
       "5 5\n",
       "8 3\n",
       "8 5\n"
      ]
     },
     "execution_count": 4,
     "metadata": {},
     "output_type": "execute_result"
    }
   ],
   "source": [
    "is_sym: where '[data within 33 45]\n",
    "sym_matrix: raze {[x;y] {(x,y)}[x;] each y} '[til count is_sym;is_sym]\n",
    "sym_matrix"
   ]
  },
  {
   "cell_type": "code",
   "execution_count": 5,
   "metadata": {},
   "outputs": [
    {
     "data": {
      "text/plain": [
       "0b\n"
      ]
     },
     "execution_count": 5,
     "metadata": {},
     "output_type": "execute_result"
    }
   ],
   "source": [
    "is_near_sym:{[row;column]\n",
    "    any({all((abs(x-y))<=1)}[(row;column);] each sym_matrix)\n",
    "    }\n",
    "\n",
    "is_near_sym[0;5]"
   ]
  },
  {
   "cell_type": "code",
   "execution_count": 6,
   "metadata": {},
   "outputs": [
    {
     "data": {
      "text/plain": [
       "0010000000b\n",
       "0000000000b\n",
       "0011001100b\n",
       "0000000000b\n",
       "0010000000b\n",
       "0000000000b\n",
       "0000100000b\n",
       "0000001000b\n",
       "0000000000b\n",
       "0011011000b\n"
      ]
     },
     "execution_count": 6,
     "metadata": {},
     "output_type": "execute_result"
    }
   ],
   "source": [
    "is_digit_near_sym: {{(is_near_sym[x;y]) and data[x;y] within 48 58 }[x;] each til count data[x]} each til count data\n",
    "is_digit_near_sym"
   ]
  },
  {
   "cell_type": "code",
   "execution_count": 7,
   "metadata": {},
   "outputs": [
    {
     "data": {
      "text/plain": [
       "1110011100b\n",
       "0000000000b\n",
       "0011001110b\n",
       "0000000000b\n",
       "1110000000b\n",
       "0000000110b\n",
       "0011100000b\n",
       "0000001110b\n",
       "0000000000b\n",
       "0111011100b\n"
      ]
     },
     "execution_count": 7,
     "metadata": {},
     "output_type": "execute_result"
    }
   ],
   "source": [
    "is_digit:{{data[x;y] within 48 58 }[x;] each til count data[x]} each til count data\n",
    "is_digit"
   ]
  },
  {
   "cell_type": "code",
   "execution_count": 8,
   "metadata": {},
   "outputs": [
    {
     "data": {
      "text/plain": [
       "1110000000b\n",
       "0000000000b\n",
       "0011001100b\n",
       "0000000000b\n",
       "1110000000b\n",
       "0000000000b\n",
       "0011100000b\n",
       "0000001000b\n",
       "0000000000b\n",
       "0111011000b\n"
      ]
     },
     "execution_count": 8,
     "metadata": {},
     "output_type": "execute_result"
    }
   ],
   "source": [
    "/{{(x,y)}[x;] each til count data[x]} each til count data\n",
    "is_good_num: {\n",
    "    len: count y;\n",
    "    st: `boolean$(); \n",
    "    near_sym : 0b; \n",
    "    while[len>0;\n",
    "        len-:1;\n",
    "        $[is_digit[x;len];;near_sym:0b];\n",
    "        st:$[(is_digit_near_sym[x;len])and(is_digit[x;len]);near_sym:1b;near_sym],st;\n",
    "        ];\n",
    "    :st\n",
    "    } '[til count data; data]\n",
    "is_good_num"
   ]
  },
  {
   "cell_type": "code",
   "execution_count": 9,
   "metadata": {},
   "outputs": [
    {
     "data": {
      "text/plain": [
       "1000000000b\n",
       "0000000000b\n",
       "0010001000b\n",
       "0000000000b\n",
       "1000000000b\n",
       "0000000000b\n",
       "0010000000b\n",
       "0000001000b\n",
       "0000000000b\n",
       "0100010000b\n"
      ]
     },
     "execution_count": 9,
     "metadata": {},
     "output_type": "execute_result"
    }
   ],
   "source": [
    "/{{(x,y)}[x;] each til count data[x]} each til count data\n",
    "is_good_num: {\n",
    "    len: count y;\n",
    "    st: `boolean$(); \n",
    "    near_sym : 0b; \n",
    "    while[len>0;\n",
    "        len-:1;\n",
    "        $[is_digit[x;len];;near_sym:0b];\n",
    "        prev_digit: $[(is_digit_near_sym[x;len])and(is_digit[x;len]);near_sym:1b;near_sym];\n",
    "        $[(prev_digit=1b)and(st[0]=1b);st[0]:0b;];\n",
    "        /show prev_digit,st[0];\n",
    "        st:prev_digit,st;\n",
    "        /show st;\n",
    "        ];\n",
    "    :st\n",
    "    } '[til count data; data]\n",
    "is_good_num"
   ]
  },
  {
   "cell_type": "code",
   "execution_count": 10,
   "metadata": {},
   "outputs": [
    {
     "data": {
      "text/plain": [
       "::\n",
       "::\n",
       "::\n",
       "::\n",
       "::\n",
       "::\n",
       "::\n",
       "::\n",
       "::\n",
       "::\n"
      ]
     },
     "execution_count": 10,
     "metadata": {},
     "output_type": "execute_result"
    },
    {
     "data": {
      "text/plain": [
       "4361\n"
      ]
     },
     "execution_count": 10,
     "metadata": {},
     "output_type": "execute_result"
    }
   ],
   "source": [
    "/{{(x,y)}[x;] each til count data[x]} each til count data\n",
    ".temp.sum:0;\n",
    "add_num: {[row;str]\n",
    "    col:0;\n",
    "    cur_num:\"\";\n",
    "    while[col<count str;\n",
    "        /show row,col,is_good_num[row;col],(\"J\"$cur_num),.temp.sum;\n",
    "        if[is_good_num[row;col];\n",
    "            while[is_digit[row;col];\n",
    "                    cur_num,:str[col];\n",
    "                    col+:1;\n",
    "                    /-1 \"Never2\";\n",
    "                    ];\n",
    "            .temp.sum+:\"J\"$cur_num;\n",
    "            cur_num:\"\";\n",
    "            ];\n",
    "        col+:1;\n",
    "        ];\n",
    "    } '[til count data; data]\n",
    "add_num\n",
    ".temp.sum"
   ]
  },
  {
   "cell_type": "code",
   "execution_count": 11,
   "metadata": {},
   "outputs": [
    {
     "data": {
      "text/plain": [
       "4361\n"
      ]
     },
     "execution_count": 11,
     "metadata": {},
     "output_type": "execute_result"
    },
    {
     "data": {
      "text/plain": [
       "467835\n"
      ]
     },
     "execution_count": 11,
     "metadata": {},
     "output_type": "execute_result"
    }
   ],
   "source": [
    "/ external solution : https://github.com/adotsch/aoc/blob/master/2023/day03.q\n",
    "i:data\n",
    "//part 1\n",
    "n:i in \"0123456789\"                                 //number bitmap\n",
    "s1:i in \"#$%&*+-/=@\"                                //sym bitmap\n",
    "s2:2(flip any -1 0 1 rotate\\:)/s1                   // + neigbours\n",
    "m:{n & any each -1 0 1 rotate\\:/: x}/[n&s2]         //bitmap of numbers in sym neigbours\n",
    "sum get raze \"c\"$(0+m;1-m)wsum\"i\"$(i;\" \")           //sum of them\n",
    "//part 2\n",
    "g: i = \"*\"                                          //bitmap of \"*\"s\n",
    "G:(sum/)g                                           //count of them\n",
    "gn:(count g 0) cut {x * sums x} raze g              //\"*\"s numbered on the map\n",
    "sum {                                               //sum of gear ratios computed below\n",
    "    g1:gn = x;                                      //bitmap of a single \"*\"\n",
    "    g2:2(flip any -1 0 1 rotate\\:)/ g1;             // + neigbours\n",
    "    m:{n & any each -1 0 1 rotate\\:/: x}/[n&g2];    //bitmap of numbers in \"*\" neigbours\n",
    "    ns:get raze \"c\"$(0+m;1-m)wsum\"i\"$(i;\" \");       //the list of them\n",
    "    $[2=count ns; prd ns; 0]                        //a gear ratio if exactly two\n",
    " } peach 1+til G                                    //for each \"*\""
   ]
  },
  {
   "cell_type": "code",
   "execution_count": 17,
   "metadata": {},
   "outputs": [
    {
     "data": {
      "text/plain": [
       "4361\n"
      ]
     },
     "execution_count": 17,
     "metadata": {},
     "output_type": "execute_result"
    },
    {
     "data": {
      "text/plain": [
       "1110000000b\n",
       "0000000000b\n",
       "0011001110b\n",
       "0000000000b\n",
       "1110000000b\n",
       "0000000000b\n",
       "0011100000b\n",
       "0000001110b\n",
       "0000000000b\n",
       "0111011100b\n"
      ]
     },
     "execution_count": 17,
     "metadata": {},
     "output_type": "execute_result"
    },
    {
     "data": {
      "text/plain": [
       "1 1 1 0 0 0 0 0 0 0\n",
       "0 0 0 0 0 0 0 0 0 0\n",
       "0 0 1 1 0 0 1 1 1 0\n",
       "0 0 0 0 0 0 0 0 0 0\n",
       "1 1 1 0 0 0 0 0 0 0\n",
       "0 0 0 0 0 0 0 0 0 0\n",
       "0 0 1 1 1 0 0 0 0 0\n",
       "0 0 0 0 0 0 1 1 1 0\n",
       "0 0 0 0 0 0 0 0 0 0\n",
       "0 1 1 1 0 1 1 1 0 0\n"
      ]
     },
     "execution_count": 17,
     "metadata": {},
     "output_type": "execute_result"
    },
    {
     "data": {
      "text/plain": [
       "0 0 0 1 1 1 1 1 1 1\n",
       "1 1 1 1 1 1 1 1 1 1\n",
       "1 1 0 0 1 1 0 0 0 1\n",
       "1 1 1 1 1 1 1 1 1 1\n",
       "0 0 0 1 1 1 1 1 1 1\n",
       "1 1 1 1 1 1 1 1 1 1\n",
       "1 1 0 0 0 1 1 1 1 1\n",
       "1 1 1 1 1 1 0 0 0 1\n",
       "1 1 1 1 1 1 1 1 1 1\n",
       "1 0 0 0 1 0 0 0 1 1\n"
      ]
     },
     "execution_count": 17,
     "metadata": {},
     "output_type": "execute_result"
    },
    {
     "data": {
      "text/plain": [
       "1 1 1 0 0 0 0 0 0 0 0 0 0 0 0 0 0 0 0 0 0 0 1 1 0 0 1 1 1 0 0 0 0 0 0 0 0 0 0 0 1 1 1 0 0 0 0 0 0 0 0 0 0 0 0 0 0 0 0 0 0 0 1 1 1 0 0 0 0 0 0 0 0 0 0 0 1 1 1 0 0 0 0 0 0 0 0 0 0 0 0 1 1 1 0 1 1 1 0 0\n",
       "0 0 0 1 1 1 1 1 1 1 1 1 1 1 1 1 1 1 1 1 1 1 0 0 1 1 0 0 0 1 1 1 1 1 1 1 1 1 1 1 0 0 0 1 1 1 1 1 1 1 1 1 1 1 1 1 1 1 1 1 1 1 0 0 0 1 1 1 1 1 1 1 1 1 1 1 0 0 0 1 1 1 1 1 1 1 1 1 1 1 1 0 0 0 1 0 0 0 1 1\n"
      ]
     },
     "execution_count": 17,
     "metadata": {},
     "output_type": "execute_result"
    },
    {
     "data": {
      "text/plain": [
       "(52 54 55 46 46 49 49 52 46 46i;46 46 46 42 46 46 46 46 46 46i;46 46 51 53 46 46 54 51 51 46i;46 46 46 46 46 46 35 46 46 46i;54 49 55 42 46 46 46 46 46 46i;46 46 46 46 46 43 46 53 56 46i;46 46 53 57 50 46 46 46 46 46i;46 46 46 46 46 46 55 53 53 46i;46 46 46 36 46 42 46 46 46 46i;46 54 54 52 46 53 57 56 46 46i)\n",
       "32i\n"
      ]
     },
     "execution_count": 17,
     "metadata": {},
     "output_type": "execute_result"
    },
    {
     "data": {
      "text/plain": [
       "\"467       \"\n",
       "\"          \"\n",
       "\"  35  633 \"\n",
       "\"          \"\n",
       "\"617       \"\n",
       "\"          \"\n",
       "\"  592     \"\n",
       "\"      755 \"\n",
       "\"          \"\n",
       "\" 664 598  \"\n"
      ]
     },
     "execution_count": 17,
     "metadata": {},
     "output_type": "execute_result"
    }
   ],
   "source": [
    "i:data\n",
    "//part 1\n",
    "n:i in \"0123456789\"                                 //number bitmap\n",
    "s1:i in \"#$%&*+-/=@\"                                //sym bitmap\n",
    "s2:2(flip any -1 0 1 rotate\\:)/s1                   // + neigbours, over is diadic function \"2\" is 2 times the function\n",
    "m:{n & any each -1 0 1 rotate\\:/: x}/[n&s2]         //bitmap of numbers in sym neigbours\n",
    "sum get raze \"c\"$(0+m;1-m)wsum\"i\"$(i;\" \")           //sum of them\n",
    "m\n",
    "0+m\n",
    "1-m\n",
    "(0+m;1-m)\n",
    "\"i\"$(i;\" \")\n",
    "\"c\"$(0+m;1-m)wsum\"i\"$(i;\" \")"
   ]
  },
  {
   "cell_type": "code",
   "execution_count": 13,
   "metadata": {},
   "outputs": [
    {
     "data": {
      "text/plain": [
       "0 0 0 0\n",
       "0 0 1 0\n",
       "0 0 0 0\n"
      ]
     },
     "execution_count": 13,
     "metadata": {},
     "output_type": "execute_result"
    },
    {
     "data": {
      "text/plain": [
       "0010b\n",
       "0010b\n",
       "0010b\n"
      ]
     },
     "execution_count": 13,
     "metadata": {},
     "output_type": "execute_result"
    },
    {
     "data": {
      "text/plain": [
       "0000b\n",
       "1111b\n",
       "0000b\n"
      ]
     },
     "execution_count": 13,
     "metadata": {},
     "output_type": "execute_result"
    }
   ],
   "source": [
    "mat: 3 4 #12?2\n",
    "mat: 3 4#(0 0 0 0 0 0 1 0 0 0 0 0)\n",
    "mat\n",
    "1(any 1 0 -1 rotate\\:)/mat\n",
    "{any each 1 0 -1 rotate\\:/: x}/[mat]"
   ]
  }
 ],
 "metadata": {
  "kernelspec": {
   "display_name": "Q 4.0",
   "language": "q",
   "name": "jupyterq4.0"
  },
  "language_info": {
   "file_extension": ".q",
   "mimetype": "text/x-q",
   "name": "q",
   "version": "4.0"
  },
  "orig_nbformat": 4
 },
 "nbformat": 4,
 "nbformat_minor": 2
}
