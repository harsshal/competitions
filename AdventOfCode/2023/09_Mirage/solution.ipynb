{
 "cells": [
  {
   "cell_type": "code",
   "execution_count": 39,
   "metadata": {},
   "outputs": [
    {
     "data": {
      "text/plain": [
       "\"0 3 6 9 12 15\"\n",
       "\"1 3 6 10 15 21\"\n",
       "\"10 13 16 21 30 45\"\n"
      ]
     },
     "execution_count": 39,
     "metadata": {},
     "output_type": "execute_result"
    }
   ],
   "source": [
    "data: read0 `:/lxhome/patilhar/notebooks/templates/q/competitions/AdventOfCode/2023/09_Mirage/sample_input.txt\n",
    "data"
   ]
  },
  {
   "cell_type": "code",
   "execution_count": 46,
   "metadata": {},
   "outputs": [
    {
     "data": {
      "text/plain": [
       "\"-1 -3 -3 6 51 200 589 1453 3159 6239 11421 19656 32139 50322 75917 110887 15..\n",
       "\"17 31 45 59 73 87 101 115 129 143 157 171 185 199 213 227 241 255 269 283 297\"\n",
       "\"1 15 42 97 219 479 997 1980 3789 7041 12757 22588 39217 67234 115332 202040 ..\n"
      ]
     },
     "execution_count": 46,
     "metadata": {},
     "output_type": "execute_result"
    }
   ],
   "source": [
    "data: read0 `:/lxhome/patilhar/notebooks/templates/q/competitions/AdventOfCode/2023/09_Mirage/final_input.txt\n",
    "3#data"
   ]
  },
  {
   "cell_type": "code",
   "execution_count": 111,
   "metadata": {},
   "outputs": [
    {
     "data": {
      "text/plain": [
       "1696140818\n"
      ]
     },
     "execution_count": 111,
     "metadata": {},
     "output_type": "execute_result"
    },
    {
     "data": {
      "text/plain": [
       "1152\n"
      ]
     },
     "execution_count": 111,
     "metadata": {},
     "output_type": "execute_result"
    }
   ],
   "source": [
    "f:{$[all 0=x;0;(last x)+.z.s 1_deltas x]} / needs to have all 0 =x. I had 0=sum x and of couse line 198 broke it.\n",
    "sum f each get each data\n",
    "/ part 2 can be done via\n",
    "/ f:{show x;$[all 0=x;0;(first x)-.z.s 1_deltas x]}\n",
    "sum f each reverse each get each data"
   ]
  },
  {
   "cell_type": "code",
   "execution_count": 112,
   "metadata": {},
   "outputs": [
    {
     "data": {
      "text/plain": [
       "1696140818\n"
      ]
     },
     "execution_count": 112,
     "metadata": {},
     "output_type": "execute_result"
    },
    {
     "data": {
      "text/plain": [
       "1152\n"
      ]
     },
     "execution_count": 112,
     "metadata": {},
     "output_type": "execute_result"
    }
   ],
   "source": [
    "/ external solution: https://github.com/adotsch/aoc/blob/master/2023/day09.q\n",
    "i:get'[data]\n",
    "f:{$[all 0=y _ x;x,0;sums f[deltas x;y+1]]}\n",
    "sum {last f[x;0]} each i\n",
    "sum {last f[x;0]} each reverse'[i]"
   ]
  }
 ],
 "metadata": {
  "kernelspec": {
   "display_name": "Q 4.0",
   "language": "q",
   "name": "jupyterq4.0"
  },
  "language_info": {
   "file_extension": ".q",
   "mimetype": "text/x-q",
   "name": "q",
   "version": "4.0"
  },
  "orig_nbformat": 4
 },
 "nbformat": 4,
 "nbformat_minor": 2
}
