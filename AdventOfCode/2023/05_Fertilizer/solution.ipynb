{
 "cells": [
  {
   "cell_type": "code",
   "execution_count": 127,
   "metadata": {},
   "outputs": [
    {
     "data": {
      "text/plain": [
       "\"seeds: 79 14 55 13\"\n",
       "\"\"\n",
       "\"seed-to-soil map:\"\n",
       "\"50 98 2\"\n",
       "\"52 50 48\"\n",
       "\"\"\n",
       "\"soil-to-fertilizer map:\"\n",
       "\"0 15 37\"\n",
       "\"37 52 2\"\n",
       "\"39 0 15\"\n",
       "\"\"\n",
       "\"fertilizer-to-water map:\"\n",
       "\"49 53 8\"\n",
       "\"0 11 42\"\n",
       "\"42 0 7\"\n",
       "\"57 7 4\"\n",
       "\"\"\n",
       "\"water-to-light map:\"\n",
       "\"88 18 7\"\n",
       "\"18 25 70\"\n",
       "\"\"\n",
       "\"light-to-temperature map:\"\n",
       "..\n"
      ]
     },
     "execution_count": 127,
     "metadata": {},
     "output_type": "execute_result"
    }
   ],
   "source": [
    "data: read0 `:/lxhome/patilhar/notebooks/templates/q/competitions/AdventOfCode/2023/05_Fertilizer/sample_input.txt\n",
    "data"
   ]
  },
  {
   "cell_type": "code",
   "execution_count": 121,
   "metadata": {},
   "outputs": [
    {
     "data": {
      "text/plain": [
       "\"seeds: 515785082 87905039 2104518691 503149843 720333403 385234193 135790410..\n",
       "\"\"\n",
       "\"seed-to-soil map:\"\n",
       "\"2025334497 3876763368 16729580\"\n",
       "\"1877945250 2032519622 95086460\"\n",
       "\"0 679167893 381174930\"\n",
       "\"717319608 469672599 20842400\"\n",
       "\"1677700339 1823837909 22353530\"\n",
       "\"634816620 1372848321 73458998\"\n",
       "\"2756794066 2812828157 182758452\"\n",
       "\"3324095721 3392359690 456362171\"\n",
       "\"969898963 32396659 196640650\"\n",
       "\"1973031710 2127606082 52302787\"\n",
       "\"4095486882 3893492948 33982348\"\n",
       "\"381174930 591894131 9141137\"\n",
       "\"3247991211 2466896352 76104510\"\n",
       "\"1645303680 0 32396659\"\n",
       "\"3023330013 4070306098 224661198\"\n",
       "\"2329063131 1900645524 131874098\"\n",
       "\"2042064077 3115509825 242853312\"\n",
       "\"969753308 1446307319 145655\"\n",
       "\"4214866116 3035408645 80101180\"\n",
       "..\n"
      ]
     },
     "execution_count": 121,
     "metadata": {},
     "output_type": "execute_result"
    }
   ],
   "source": [
    "data: read0 `:/lxhome/patilhar/notebooks/templates/q/competitions/AdventOfCode/2023/05_Fertilizer/final_input.txt\n",
    "data"
   ]
  },
  {
   "cell_type": "code",
   "execution_count": 128,
   "metadata": {},
   "outputs": [
    {
     "data": {
      "text/plain": [
       "79 14 55 13\n"
      ]
     },
     "execution_count": 128,
     "metadata": {},
     "output_type": "execute_result"
    }
   ],
   "source": [
    "seeds: get last \":\" vs data[0]\n",
    "seeds"
   ]
  },
  {
   "cell_type": "code",
   "execution_count": 159,
   "metadata": {},
   "outputs": [
    {
     "data": {
      "text/plain": [
       "35\n"
      ]
     },
     "execution_count": 159,
     "metadata": {},
     "output_type": "execute_result"
    }
   ],
   "source": [
    "tbl:([] seeds:seeds; source:seeds)\n",
    "read_map:{[line_num]\n",
    "    names: \"-\" vs first \" \" vs data[line_num];\n",
    "    @[`.;`source`x`dest;:;names];\n",
    "    conv: 1 1 #0N;\n",
    "    while[count data[line_num+:1];\n",
    "        /show data[line_num];\n",
    "        nums:get data[line_num];\n",
    "        conv,: (nums[2]-1)({x+1})\\reverse -1_nums;\n",
    "        /show conv;\n",
    "        ];\n",
    "    :(line_num;([] source:conv[;0];dest:conv[;1]))\n",
    "    };\n",
    "\n",
    "line_num:1j;\n",
    "while[line_num < count data;\n",
    "    @[`.;`line_num`conv;:;read_map[line_num+:1]];\n",
    "    /show conv;\n",
    "    tbl: select seeds, source: ?[null dest;source;dest] \n",
    "        from tbl lj 1!conv;\n",
    "    /show tbl;\n",
    "    ]\n",
    "\n",
    "min tbl`source"
   ]
  },
  {
   "cell_type": "code",
   "execution_count": 124,
   "metadata": {},
   "outputs": [
    {
     "data": {
      "text/plain": [
       "457535844\n"
      ]
     },
     "execution_count": 124,
     "metadata": {},
     "output_type": "execute_result"
    },
    {
     "data": {
      "text/plain": [
       "41222968\n"
      ]
     },
     "execution_count": 124,
     "metadata": {},
     "output_type": "execute_result"
    }
   ],
   "source": [
    "/ external solution https://github.com/adotsch/aoc/blob/master/2023/day05.q\n",
    "i:data\n",
    "//part 1\n",
    "s1:get 6_i 0                                                        //seeds\n",
    "m:(get'')2_'where[\"\"~/:i] cut i                                     //mapping rules\n",
    "f:{x{last(0b;x){$[x 0;x;x[1] within (y 1;y[1]+y[2]-1);(1b;x[1]+y[0]-y[1]);x]}/y}/m} // 0b in front of x is \"processed\" flag\n",
    "min f each s1\n",
    "//part 2\n",
    "s2:{(x;x+y-1)}.' 2 cut s1                                           //seed ranges\n",
    "split:{raze y{$[x within y+1 0;((y 0;x-1);(x;y 1));enlist y]}'x}    //split up ranges\n",
    "map:{[dr;m]                                                         //(done;rest);mapping\n",
    "    d:dr 0; r:dr[1] split/(m 1;m[1]+m[2]);                          //done, the rest split up\n",
    "    t:first'[r] within (m 1;m[1]+m[2]-1);                           //ranges to map\n",
    "    d,:r[where t]+m[0]-m[1];                                        //map and append to done\n",
    "    r@:where not t;                                                 //what remains\n",
    "    (d;r)\n",
    " }\n",
    "min(first')s2{raze(();x)map/y}/m"
   ]
  },
  {
   "cell_type": "code",
   "execution_count": 175,
   "metadata": {},
   "outputs": [
    {
     "data": {
      "text/plain": [
       "(50 98 2;52 50 48)\n",
       "(0 15 37;37 52 2;39 0 15)\n",
       "(49 53 8;0 11 42;42 0 7;57 7 4)\n",
       "(88 18 7;18 25 70)\n",
       "(45 77 23;81 45 19;68 64 13)\n",
       "(0 69 1;1 0 69)\n",
       "(60 56 37;56 93 4)\n"
      ]
     },
     "execution_count": 175,
     "metadata": {},
     "output_type": "execute_result"
    },
    {
     "data": {
      "text/plain": [
       "0  15 37\n",
       "37 52 2 \n",
       "39 0  15\n"
      ]
     },
     "execution_count": 175,
     "metadata": {},
     "output_type": "execute_result"
    },
    {
     "data": {
      "text/plain": [
       "60 60\n",
       "86 89\n",
       "94 96\n",
       "82 84\n",
       "56 59\n",
       "46 55\n",
       "97 98\n"
      ]
     },
     "execution_count": 175,
     "metadata": {},
     "output_type": "execute_result"
    },
    {
     "data": {
      "text/plain": [
       "(81 94;57 69)\n",
       "(79 92;55 67)\n",
       "(51 56;79 92;61 67)\n",
       "(72 85;48 60)\n",
       "(47 60;91 99;68 71)\n",
       "(56 68;79 92)\n",
       "(83 96;60 71;55 55)\n"
      ]
     },
     "execution_count": 175,
     "metadata": {},
     "output_type": "execute_result"
    },
    {
     "data": {
      "text/plain": [
       "60 86 94 82 56 46 97\n"
      ]
     },
     "execution_count": 175,
     "metadata": {},
     "output_type": "execute_result"
    }
   ],
   "source": [
    "i:data\n",
    "//part 1\n",
    "s1:get 6_i 0  \n",
    "m:(get'')2_'where[\"\"~/:i] cut i \n",
    "f:{x{last(0b;x){$[x 0;x;x[1] within (y 1;y[1]+y[2]-1);(1b;x[1]+y[0]-y[1]);x]}/y}/m}\n",
    "/min f each s1\n",
    "s2:{(x;x+y-1)}.' 2 cut s1                                           //seed ranges\n",
    "/s2\n",
    "split:{raze y{$[x within y+1 0;((y 0;x-1);(x;y 1));enlist y]}'x}\n",
    "\n",
    "m\n",
    "m 1\n",
    "\n",
    "s2{raze(();x)map/y}/m\n",
    "{raze(();x)map/y}[s2;] each m\n",
    "(first ')s2{raze(();x)map/y}/m"
   ]
  },
  {
   "cell_type": "code",
   "execution_count": 180,
   "metadata": {},
   "outputs": [
    {
     "ename": "\u001b[0;31mparse error\u001b[0m",
     "evalue": "\u001b[0;31m/\u001b[0m",
     "output_type": "error",
     "traceback": [
      "\u001b[0;31mparse error\u001b[0m",
      "\u001b[0;31m/\u001b[0m"
     ]
    }
   ],
   "source": [
    "(1 2 3){x,y}/(4 5 6)\n",
    "{x,y}[(1 2 3);] each (4 5 6)\n",
    "{x,y}[(1 2 3);]/(4 5 6)"
   ]
  }
 ],
 "metadata": {
  "kernelspec": {
   "display_name": "Q 4.0",
   "language": "q",
   "name": "jupyterq4.0"
  },
  "language_info": {
   "file_extension": ".q",
   "mimetype": "text/x-q",
   "name": "q",
   "version": "4.0"
  },
  "orig_nbformat": 4
 },
 "nbformat": 4,
 "nbformat_minor": 2
}
