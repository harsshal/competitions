{
 "cells": [
  {
   "cell_type": "code",
   "execution_count": 1,
   "metadata": {},
   "outputs": [
    {
     "data": {
      "text/plain": [
       "\"32T3K 765\"\n",
       "\"T55J5 684\"\n",
       "\"KK677 28\"\n"
      ]
     },
     "execution_count": 1,
     "metadata": {},
     "output_type": "execute_result"
    }
   ],
   "source": [
    "data: read0 `:/lxhome/patilhar/notebooks/templates/q/competitions/AdventOfCode/2023/07_CamelCards/sample_input.txt\n",
    "3#data"
   ]
  },
  {
   "cell_type": "code",
   "execution_count": 2,
   "metadata": {},
   "outputs": [
    {
     "data": {
      "text/plain": [
       "\"8444T 864\"\n",
       "\"6TK4Q 440\"\n",
       "\"A5555 197\"\n"
      ]
     },
     "execution_count": 2,
     "metadata": {},
     "output_type": "execute_result"
    }
   ],
   "source": [
    "data: read0 `:/lxhome/patilhar/notebooks/templates/q/competitions/AdventOfCode/2023/07_CamelCards/final_input.txt\n",
    "3#data"
   ]
  },
  {
   "cell_type": "code",
   "execution_count": 145,
   "metadata": {},
   "outputs": [
    {
     "data": {
      "text/plain": [
       "251106089\n"
      ]
     },
     "execution_count": 145,
     "metadata": {},
     "output_type": "execute_result"
    }
   ],
   "source": [
    "mat: {(`str`value)!(first x;\"J\"$last x)}each (\" \" vs) each data\n",
    "ord:\"23456789TJQKA\"\n",
    "f:{[str]\n",
    "    arr: ord?str; \n",
    "    arr_rank: {desc (count ')(where differ x) cut x} asc arr; / sort the array in decreasing order based on 'ord'\n",
    "    (2#arr_rank),arr / get the top 2 counts and append to ordered list, 5 converts to 5 5 but should be OK\n",
    "    }\n",
    "result: f each mat`str;\n",
    "sum (1 + iasc iasc result)*mat`value"
   ]
  },
  {
   "cell_type": "code",
   "execution_count": 3,
   "metadata": {},
   "outputs": [
    {
     "data": {
      "text/plain": [
       "C       B   J1            H1\n",
       "----------------------------\n",
       "\"2379T\" 372 0 1  5  7  8  0 \n",
       "\"23T6J\" 575 0 1  8  4  9  0 \n",
       "\"23T85\" 83  0 1  8  6  3  0 \n",
       "\"258AT\" 901 0 3  6  12 8  0 \n",
       "\"26Q97\" 527 0 4  10 7  5  0 \n",
       "\"2735J\" 167 0 5  1  3  9  0 \n",
       "\"27QAJ\" 616 0 5  10 12 9  0 \n",
       "\"2879J\" 483 0 6  5  7  9  0 \n",
       "\"293A8\" 762 0 7  1  12 6  0 \n",
       "\"29JQ7\" 366 0 7  9  10 5  0 \n",
       "\"2T9J6\" 364 0 8  7  9  4  0 \n",
       "\"2T9JQ\" 113 0 8  7  9  10 0 \n",
       "\"2J7K8\" 618 0 9  5  11 6  0 \n",
       "\"2Q3KJ\" 929 0 10 1  11 9  0 \n",
       "\"2Q9J6\" 568 0 10 7  9  4  0 \n",
       "\"2QA84\" 602 0 10 12 6  2  0 \n",
       "\"2K8TA\" 283 0 11 6  8  12 0 \n",
       "\"32954\" 563 1 0  7  3  2  0 \n",
       "\"32A85\" 750 1 0  12 6  3  0 \n",
       "\"345T8\" 824 1 2  3  8  6  0 \n",
       "..\n"
      ]
     },
     "execution_count": 3,
     "metadata": {},
     "output_type": "execute_result"
    },
    {
     "data": {
      "text/plain": [
       "251106089\n"
      ]
     },
     "execution_count": 3,
     "metadata": {},
     "output_type": "execute_result"
    },
    {
     "data": {
      "text/plain": [
       "249620106\n"
      ]
     },
     "execution_count": 3,
     "metadata": {},
     "output_type": "execute_result"
    }
   ],
   "source": [
    "/external solution https://github.com/adotsch/aoc/blob/master/2023/day07.q\n",
    "I:`C`B!/:\"*J\"$/:\" \"vs/:data\n",
    "hist:count each group@\n",
    "h:(1 1 1 1 1;1 1 1 2;1 2 2;1 1 3;2 3;1 4;1#5)!til 7\n",
    "//part 1\n",
    "l1:\"23456789TJQKA\"\n",
    "update J1:l1?C from `I;\n",
    "update H1:{h asc value hist x}'[C] from `I;\n",
    "`H1`J1 xasc I\n",
    "sum exec B*i+1 from `H1`J1 xasc I\n",
    "//part 2\n",
    "l2:\"J23456789TQKA\"\n",
    "update J2:l2?C from `I;\n",
    "joker:{x,5-sum 0,x:-1_x}\n",
    "update H2:{h joker asc value hist x except\"J\"}'[C] from `I;\n",
    "sum exec B*i+1 from `H2`J2 xasc I"
   ]
  }
 ],
 "metadata": {
  "kernelspec": {
   "display_name": "Q 4.0",
   "language": "q",
   "name": "jupyterq4.0"
  },
  "language_info": {
   "file_extension": ".q",
   "mimetype": "text/x-q",
   "name": "q",
   "version": "4.0"
  },
  "orig_nbformat": 4
 },
 "nbformat": 4,
 "nbformat_minor": 2
}
