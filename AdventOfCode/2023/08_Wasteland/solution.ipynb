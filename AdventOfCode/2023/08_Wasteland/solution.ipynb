{
 "cells": [
  {
   "cell_type": "code",
   "execution_count": 159,
   "metadata": {},
   "outputs": [
    {
     "data": {
      "text/plain": [
       "\"RL\"\n",
       "\"\"\n",
       "\"AAA = (BBB, CCC)\"\n",
       "\"BBB = (DDD, EEE)\"\n",
       "\"CCC = (ZZZ, GGG)\"\n",
       "\"DDD = (DDD, DDD)\"\n",
       "\"EEE = (EEE, EEE)\"\n",
       "\"GGG = (GGG, GGG)\"\n",
       "\"ZZZ = (ZZZ, ZZZ)\"\n"
      ]
     },
     "execution_count": 159,
     "metadata": {},
     "output_type": "execute_result"
    }
   ],
   "source": [
    "data: read0 `:/lxhome/patilhar/notebooks/templates/q/competitions/AdventOfCode/2023/08_Wasteland/sample_input.txt\n",
    "data"
   ]
  },
  {
   "cell_type": "code",
   "execution_count": 108,
   "metadata": {},
   "outputs": [
    {
     "data": {
      "text/plain": [
       "\"LLR\"\n",
       "\"\"\n",
       "\"AAA = (BBB, BBB)\"\n",
       "\"BBB = (AAA, ZZZ)\"\n",
       "\"ZZZ = (ZZZ, ZZZ)\"\n"
      ]
     },
     "execution_count": 108,
     "metadata": {},
     "output_type": "execute_result"
    }
   ],
   "source": [
    "data: read0 `:/lxhome/patilhar/notebooks/templates/q/competitions/AdventOfCode/2023/08_Wasteland/sample_input_2.txt\n",
    "data"
   ]
  },
  {
   "cell_type": "code",
   "execution_count": 161,
   "metadata": {},
   "outputs": [
    {
     "data": {
      "text/plain": [
       "\"LRLRRLRLRRRLRRRLRRLRLLRLRLRRRLRLRRLLRRLLRRRLLRRRLRRRLRRLLRLRRRLRRLRLRLLRRLLR..\n",
       "\"\"\n",
       "\"JKT = (KFV, CFQ)\"\n",
       "\"SQQ = (RLK, TRV)\"\n",
       "\"CVT = (KRT, NCV)\"\n",
       "\"JVS = (GXT, QMF)\"\n",
       "\"KPF = (GCH, FCH)\"\n",
       "\"XTQ = (GFM, FSP)\"\n",
       "\"QBJ = (PXR, FMK)\"\n",
       "\"KXQ = (FMK, PXR)\"\n",
       "\"LTM = (CML, TMP)\"\n",
       "\"CMD = (DFJ, GXS)\"\n",
       "\"VJK = (KGN, HBX)\"\n",
       "\"QTP = (KBP, CNM)\"\n",
       "\"MBT = (GTN, QXG)\"\n",
       "\"HGQ = (PFJ, FXL)\"\n",
       "\"MDV = (CVJ, PMR)\"\n",
       "\"KJQ = (TQF, HTS)\"\n",
       "\"CBB = (XRL, XSP)\"\n",
       "\"AAA = (QXT, CDL)\"\n",
       "\"RPS = (FXF, MQL)\"\n",
       "\"BPH = (VBF, FBJ)\"\n",
       "..\n"
      ]
     },
     "execution_count": 161,
     "metadata": {},
     "output_type": "execute_result"
    }
   ],
   "source": [
    "data: read0 `:/lxhome/patilhar/notebooks/templates/q/competitions/AdventOfCode/2023/08_Wasteland/final_input.txt\n",
    "data"
   ]
  },
  {
   "cell_type": "code",
   "execution_count": 156,
   "metadata": {},
   "outputs": [
    {
     "data": {
      "text/plain": [
       "node  L     R    \n",
       "-----------------\n",
       "\"JKT\" \"KFV\" \"CFQ\"\n",
       "\"SQQ\" \"RLK\" \"TRV\"\n",
       "\"CVT\" \"KRT\" \"NCV\"\n"
      ]
     },
     "execution_count": 156,
     "metadata": {},
     "output_type": "execute_result"
    },
    {
     "data": {
      "text/plain": [
       "\"LRLRRLRLRRRLRRRLRRLRLLRLRLRRRLRLRRLLRRLLRRRLLRRRLRRRLRRLLRLRRRLRRLRLRLLRRLLR..\n"
      ]
     },
     "execution_count": 156,
     "metadata": {},
     "output_type": "execute_result"
    },
    {
     "data": {
      "text/plain": [
       "20221\n"
      ]
     },
     "execution_count": 156,
     "metadata": {},
     "output_type": "execute_result"
    }
   ],
   "source": [
    "tbl: {`node`L`R!((3#x); (3#-9#x); (3#-4#x))} each 2_data\n",
    "3#tbl\n",
    "steps:data[0]\n",
    "steps\n",
    "f:{?[tbl;enlist (like;`node;enlist x);();`$y][0]} / return type had to be string instead of array\n",
    ".tmp.cnt:0\n",
    "f2:{.tmp.cnt+:(count steps);x f/steps}\n",
    "(not \"ZZZ\" ~ )f2/\"AAA\";\n",
    ".tmp.cnt"
   ]
  },
  {
   "cell_type": "code",
   "execution_count": 162,
   "metadata": {},
   "outputs": [
    {
     "data": {
      "text/plain": [
       "277\n"
      ]
     },
     "execution_count": 162,
     "metadata": {},
     "output_type": "execute_result"
    },
    {
     "data": {
      "text/plain": [
       "JKT| KFV CFQ\n",
       "SQQ| RLK TRV\n",
       "CVT| KRT NCV\n",
       "JVS| GXT QMF\n",
       "KPF| GCH FCH\n",
       "XTQ| GFM FSP\n",
       "QBJ| PXR FMK\n",
       "KXQ| FMK PXR\n",
       "LTM| CML TMP\n",
       "CMD| DFJ GXS\n",
       "VJK| KGN HBX\n",
       "QTP| KBP CNM\n",
       "MBT| GTN QXG\n",
       "HGQ| PFJ FXL\n",
       "MDV| CVJ PMR\n",
       "KJQ| TQF HTS\n",
       "CBB| XRL XSP\n",
       "AAA| QXT CDL\n",
       "RPS| FXF MQL\n",
       "BPH| VBF FBJ\n",
       "RQM| GVB RKD\n",
       "KNQ| MPV DLX\n",
       "..\n"
      ]
     },
     "execution_count": 162,
     "metadata": {},
     "output_type": "execute_result"
    },
    {
     "data": {
      "text/plain": [
       "20221\n"
      ]
     },
     "execution_count": 162,
     "metadata": {},
     "output_type": "execute_result"
    },
    {
     "data": {
      "text/plain": [
       "14616363770447\n"
      ]
     },
     "execution_count": 162,
     "metadata": {},
     "output_type": "execute_result"
    }
   ],
   "source": [
    "/ external solution https://github.com/adotsch/aoc/blob/master/2023/day08.q\n",
    "i:data\n",
    "N:count d:\"R\"=i 0\n",
    "N\n",
    "g:.[!]flip`${@[x;1;\", \"vs]}each\" = (\"vs/:-1_'2_i\n",
    "g\n",
    "//part 1\n",
    "f1:{j:0;while[x<>`ZZZ;x:g[x;d j mod N];j+:1];j}\n",
    "f1 `AAA\n",
    "//part 2\n",
    "lcm:{x*y div last first .[{(y mod x;x)}]/x,y}\n",
    "f2:{j:0;while[not x like\"*Z\";x:g[x;d j mod N];j+:1];j}\n",
    "(lcm/) f2 each {x where x like \"*A\"} key g"
   ]
  }
 ],
 "metadata": {
  "kernelspec": {
   "display_name": "Q 4.0",
   "language": "q",
   "name": "jupyterq4.0"
  },
  "language_info": {
   "file_extension": ".q",
   "mimetype": "text/x-q",
   "name": "q",
   "version": "4.0"
  },
  "orig_nbformat": 4
 },
 "nbformat": 4,
 "nbformat_minor": 2
}
