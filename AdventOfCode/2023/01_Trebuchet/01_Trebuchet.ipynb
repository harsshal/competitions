{
 "cells": [
  {
   "cell_type": "code",
   "execution_count": 1,
   "metadata": {},
   "outputs": [
    {
     "data": {
      "text/html": [
       "        <script type=\"text/javascript\">\n",
       "        window.PlotlyConfig = {MathJaxConfig: 'local'};\n",
       "        if (window.MathJax && window.MathJax.Hub && window.MathJax.Hub.Config) {window.MathJax.Hub.Config({SVG: {font: \"STIX-Web\"}});}\n",
       "        if (typeof require !== 'undefined') {\n",
       "        require.undef(\"plotly\");\n",
       "        requirejs.config({\n",
       "            paths: {\n",
       "                'plotly': ['https://cdn.plot.ly/plotly-2.26.0.min']\n",
       "            }\n",
       "        });\n",
       "        require(['plotly'], function(Plotly) {\n",
       "            window._Plotly = Plotly;\n",
       "        });\n",
       "        }\n",
       "        </script>\n",
       "        "
      ]
     },
     "metadata": {},
     "output_type": "display_data"
    },
    {
     "data": {
      "text/html": [
       "        <script type=\"text/javascript\">\n",
       "        window.PlotlyConfig = {MathJaxConfig: 'local'};\n",
       "        if (window.MathJax && window.MathJax.Hub && window.MathJax.Hub.Config) {window.MathJax.Hub.Config({SVG: {font: \"STIX-Web\"}});}\n",
       "        if (typeof require !== 'undefined') {\n",
       "        require.undef(\"plotly\");\n",
       "        requirejs.config({\n",
       "            paths: {\n",
       "                'plotly': ['https://cdn.plot.ly/plotly-2.26.0.min']\n",
       "            }\n",
       "        });\n",
       "        require(['plotly'], function(Plotly) {\n",
       "            window._Plotly = Plotly;\n",
       "        });\n",
       "        }\n",
       "        </script>\n",
       "        "
      ]
     },
     "metadata": {},
     "output_type": "display_data"
    }
   ],
   "source": [
    "/statement: https://adventofcode.com/2023/day/1\n",
    "\n",
    "\\l /lxhome/patilhar/notebooks/include/hp.q "
   ]
  },
  {
   "cell_type": "code",
   "execution_count": 2,
   "metadata": {},
   "outputs": [
    {
     "data": {
      "text/plain": [
       "\"four82nine74\"\n",
       "\"hlpqrdh3\"\n",
       "\"eightsevenhrsseven988\"\n",
       "\"324pzonenine\"\n",
       "\"fglpbone79fourvrgcmgklbmthree\"\n",
       "\"fmbbkvthdcdmcjxzclk42six4\"\n",
       "\"four22xcqsnvktnpfshtmm\"\n",
       "\"qmfsccxsixfivelnmpjqjcsc1sixpfpmeight\"\n",
       "\"eight1nine5nine9six\"\n",
       "\"s4r91seven\"\n",
       "\"6pspkslrnxpplkhgqlcqfour\"\n",
       "\"sixeightnzrzgjvsrnmtqgx5\"\n",
       "\"sixtwo1\"\n",
       "\"h6\"\n",
       "\"five8pbcsllrbvg787\"\n",
       "\"dpfhfeight28onefourtwo\"\n",
       "\"vxqbtkxjtwoz3seven\"\n",
       "\"8ksrcjrcmpbq9rtvtvrbgljzqvbnxddnzt\"\n",
       "\"mpftpsgp6fourvdmltwojd9\"\n",
       "\"2fivetwosix\"\n",
       "\"3qqx2\"\n",
       "\"jsbdh16snnllpvvgnggfive5nhjpgdzh\"\n",
       "\"4fmgmmbonegtsnqfdqt1pm\"\n",
       "\"2onendvlmcrvzsnpr83nine\"\n",
       "\"8ninelfhkhnqtdfour\"\n",
       "\"8reight\"\n",
       "\"84gnprjhr3eightsixsix\"\n",
       "\"1nc7two\"\n",
       "\"3zcgkgrnd1d4\"\n",
       "\"nmfqfivervqkxmkdpnine51\"\n",
       "\"1fdtrptkb3\"\n",
       "\"nineone7kks\"\n",
       "\"ninelzgncpeight966427\"\n",
       "\"eightrsniner9\"\n",
       "\"nine7two4\"\n",
       "\"253slq\"\n",
       "\"lkhthreetwo982rrc\"\n",
       "\"fivegdsfnfour64sixtqfour\"\n",
       "\"dkfdtgnine9\"\n",
       "\"1six15ninebgnzhtbmlxpnrqoneightfhp\"\n",
       "\"32fivefivexjvckfourseven5seven\"\n",
       "\"onexxzvptxkn42eightvsdgszdjgp\"\n",
       "\"three6sevennine\"\n",
       "\"mvsrflqjsix22lhd2twodkltkmsk\"\n",
       "\"threetnbfsfxxhseven51cjvmkvzkdhr2\"\n",
       "\"11twoxjszm93\"\n",
       "\"trr62fivedvktlheight19\"\n",
       "\"4hxthreepqptvkkzmfsevenfourxeight\"\n",
       "\"5shqhrjtdgsninepblpjprtqptz\"\n",
       "\"ptwone9kzvjhhfive7qjsblztmfvthreeqrhhmbgjpqrgqhcgzntmvskhh\"\n",
       "\"xltqzgqxbkq7krgnthtqbm3636\"\n",
       "\"nvvxfxbgldrb2seven7twokxzbfkvptflnhlqjrthreeoneights\"\n",
       "\"7fcvckqszbj\"\n",
       "\"eight1ninethreeninenbmcsqtrl7\"\n",
       "\"zkqmlqmtszrbvnjnvsevennine9sevenqjrlxqjlql\"\n",
       "\"428\"\n",
       "\"8seven16nineeight\"\n",
       "\"24bkfzsrxjtbzbknqqxtfftzlnrkeight\"\n",
       "\"two372eightnine\"\n",
       "\"skxf5zpnmzqgvzjv9sixtwo\"\n",
       "\"1fivedsghrseven4\"\n",
       "\"8hmb75twotwo\"\n",
       "\"2hsnpfourthree3h88cz\"\n",
       "\"6qkqxszvghrdslpckhfivedlx\"\n",
       "\"pnxvtbflleightjpfzlqxhr22ckjrnzhnbvdnj1xnfhmb\"\n",
       "\"cdscn4xksngscvnseven\"\n",
       "\"65oneightpln\"\n",
       "\"ninesix11six41seven5twonesl\"\n",
       "\"f411d\"\n",
       "\"sixonedqppgfdfbthree1sj1sevenqhdjlg\"\n",
       "\"eightsixhzshtg5oneone\"\n",
       "\"tbhdgzphkkvbbclmhgvb3three\"\n",
       "\"dpsxdfmzstpd7rzf3\"\n",
       "\"kzpctbr3oneninevgcxcvsconeightgk\"\n",
       "\"blmpjv6ltxfqsqfjnjgxtseven82\"\n",
       "\"99four\"\n",
       "\"onexsxs3sixdnfqlffjnnrfive\"\n",
       "\"4sevenzdjvrqjlx33\"\n",
       "\"brtbqvzcdtlkn83sevenmmtwo\"\n",
       "\"5bnlmjtmeight\"\n",
       "\"twotwofive2fqbfvqhp65eight\"\n",
       "\"dstwoneninekfourphth4lrfjjrh\"\n",
       "\"mqsndqcxt3\"\n",
       "\"5mbfxskgnh1twoqbxfbcjkzf\"\n",
       "\"6fourzdcmdl78pvxxjrplmtmvhh\"\n",
       "\"3mzgttvpt8gvzoneseven21\"\n",
       "\"8253fgfhpmponef8\"\n",
       "\"nineninelhntskjvd25\"\n",
       "\"1czbccmrlch27three\"\n",
       "\"one4l5four\"\n",
       "\"sixmcnsxf5two\"\n",
       "\"onethree2five7vzhctscktrcx\"\n",
       "\"14szp5fqtqfzcd\"\n",
       "\"6cgpzjprtsjd8five4vjzfhgkbbf9\"\n",
       "\"7gt\"\n",
       "\"4lzx\"\n",
       "\"fonexgjsnine8\"\n",
       "\"1twomvdvdrrneight8fivenine\"\n",
       "\"59eightthreesevenctwon5\"\n",
       "\"2dxfivenqflqppm3bmtmblbkltwomc\"\n",
       "\"36mplfgblgff6\"\n",
       "\"threeseven8gf9sevennine85\"\n",
       "\"hfssbghbnonesvdm7onekssjbthxjjvnqmcgmrcx\"\n",
       "\"eightfrbrstlh8\"\n",
       "\"eight34sevendlhvhszcnvdlvctkdzsgq\"\n",
       "\"seven2eightmtsmflrx2three44rsk\"\n",
       "\"fg6\"\n",
       "\"mbf44\"\n",
       "\"5926386nine\"\n",
       "\"48vqvcffsq2eight7zktszfour\"\n",
       "\"djstrfnqsixone8oneightc\"\n",
       "\"5seventwoqtr3eight5\"\n",
       "\"dttwo88three\"\n",
       "\"8rdxmnrtmt\"\n",
       "\"r2tzcbr867onetwo\"\n",
       "\"2v489four2\"\n",
       "\"vsmfszr5\"\n",
       "\"84nxrm48\"\n",
       "\"5cp4five51three\"\n",
       "\"four3six3\"\n",
       "\"4zglqmdngeight1sqb\"\n",
       "\"3twosrlvbzfh6nkrhmnjqeightseven\"\n",
       "\"eightgjhs276five\"\n",
       "\"j15one683\"\n",
       "\"hnnonefvhnxggtwoz2five\"\n",
       "\"threeseven2fourkltqmthree\"\n",
       "\"bmksn4\"\n",
       "\"11ntrt\"\n",
       "\"5tctbxqjcngdhffqqrjfive\"\n",
       "\"vcstnf1\"\n",
       "\"98tgzlvtwobjpxj6\"\n",
       "\"one6j5hqgbvhtmsjkbt7mglhvjjxmtwo\"\n",
       "\"1sixq\"\n",
       "\"three8lbqdd38ljfourtwoccntjgnmv\"\n",
       "\"two5msdsntdrjl4six15tdpnknrxnine\"\n",
       "\"sevenzkbfmqxb2sixsevenbvnbxtxvfournine\"\n",
       "\"1nzdfninednkhghlscsc\"\n",
       "\"onefive3gvjsqqgx7seventhree\"\n",
       "\"8dglgts4slg5sixninevzsj\"\n",
       "\"dxdmkshgssevenfour967ninetwo\"\n",
       "\"4ninevrhsbqnjtwo\"\n",
       "\"358fiveseven\"\n",
       "\"two8sixzt2\"\n",
       "\"93ninefztjqrhdlxxsjnnflczbsjqpkrmsixtngxqk\"\n",
       "\"ltpnkxtwoeightcfpjhthree5brzhffour\"\n",
       "\"four3five6q645qxn\"\n",
       "\"fourjxqghk6\"\n",
       "\"8dznl428nine\"\n",
       "\"1djftqndtmkcbptxs22\"\n",
       "\"27one\"\n",
       "\"543\"\n",
       "\"qgtbvgnl4tzfgch7zqtmpsix\"\n",
       "\"fourxfgqcsgxbg741922nine\"\n",
       "\"two4sixmkvkftwo5one\"\n",
       "\"lrlnnbdzr82g58fkgvfninezmqv\"\n",
       "\"2xbkhjbrlztnphmcsfcln\"\n",
       "\"2xlxksqkb\"\n",
       "\"rcnzsrtfive9scnnvqx6kmkvgmxlpqtkmbjtvsfmvseven\"\n",
       "\"6oneninekfpnbngn2\"\n",
       "\"2nnxlthmxqc9eighttcznxdchdthree\"\n",
       "\"dznqtbkgtwo5zpthvsnone\"\n",
       "\"7nxjjzhfhpshccknpbpttrjhqkxmmssvtlxtmbxlhvtjczone5twonecf\"\n",
       "\"96eight\"\n",
       "\"7qvckkdtvzjd\"\n",
       "\"14nine1two\"\n",
       "\"eight87one8ncdzkptqrgtfclsevenc\"\n",
       "\"8fourfive\"\n",
       "\"jjqbpmp42589stwosix\"\n",
       "\"vtrbqpv9sevenone1qlvmzkthnnsevenseven\"\n",
       "\"pxnxptttxh6fourmbpcldrlfnjtcxtwoonefour\"\n",
       "\"8njghfrsix82\"\n",
       "\"gvns197fsgtwo\"\n",
       "\"9sljnsix8\"\n",
       "\"rnine7ninethreenjxnrqgzbxbtvrltbss\"\n",
       "\"4stzbqg44f\"\n",
       "\"3ninesevennvvdmgkxzmttcxfbsvjrg\"\n",
       "\"eightsix3twofmnvs\"\n",
       "\"one2fmzxnhhrnvlttxnhbrjsgjsqkvfn5\"\n",
       "\"qz9ptnxfngfrh65bvvbhtsrsntczgj\"\n",
       "\"qfvqfpb2txnxxd2fiventvznljcqj\"\n",
       "\"fiveqvmzqlgzdbvqzjbllzeight5bgt\"\n",
       "\"qggflvv753clcqqjqmngdm6onefour\"\n",
       "\"3fourfiveeightbbgcgtwo857\"\n",
       "\"one5nineeightg44\"\n",
       "\"6zmqxcl16twofivedjxhzmhffive\"\n",
       "\"jnnsixsixtwo2bgsnbrzlnlltb\"\n",
       "\"six63oneightgdg\"\n",
       "\"pftmhdnqdgfive1three42four\"\n",
       "\"8hkcjlskh82\"\n",
       "\"84\"\n",
       "\"1ninefour9sxmppxjqqxpn\"\n",
       "\"ndrgrhsp1gxcrfgxctv\"\n",
       "\"fiverzmcmbqd78gqm\"\n",
       "\"fiveeight4\"\n",
       "\"vxktmrcdlsfiveoneftvqnnvjfour8sixlmldnrceight\"\n",
       "\"hpfprllctdjtwo9ksszn8eightcfdbzz\"\n",
       "\"nine5fourfbgf8one7t\"\n",
       "..\n"
      ]
     },
     "execution_count": 2,
     "metadata": {},
     "output_type": "execute_result"
    }
   ],
   "source": [
    "data: read0 `:/lxhome/patilhar/notebooks/templates/q/AdventOfCode/01_Trebuchet/01_Trebuchet_input_2\n",
    "data"
   ]
  },
  {
   "cell_type": "code",
   "execution_count": 14,
   "metadata": {},
   "outputs": [
    {
     "data": {
      "text/plain": [
       "::\n",
       "::\n",
       "::\n",
       "::\n",
       "::\n",
       "::\n",
       "::\n"
      ]
     },
     "execution_count": 14,
     "metadata": {},
     "output_type": "execute_result"
    },
    {
     "name": "stdout",
     "output_type": "stream",
     "text": [
      "Final total is : \n"
     ]
    }
   ],
   "source": [
    "/ simple solution\n",
    "\n",
    ".temp.running_total : 0;\n",
    "process_row:{[row] \n",
    "    row_num:\"I\"$inter[row;.Q.n]; \n",
    "    str_num: string row_num; \n",
    "    str_num_2d: str_num[0],str_num[(count str_num)-1];\n",
    "    /-1 str_num_2d;\n",
    "    /final_num: \"I\"$(str_num[0];str_num[(count str_num)-1])\n",
    "    /.temp.runnning_total += final_num;\n",
    "    .temp.temp_running_total: .temp.running_total+\"I\"$str_num_2d;\n",
    "    .temp.running_total: .temp.temp_running_total;\n",
    "    /-1 \"Final total is : \", string .temp.running_total;\n",
    "    };\n",
    "    \n",
    "process_row each data\n",
    "-1 \"Final total is : \", string .temp.running_total;\n",
    "\n"
   ]
  },
  {
   "cell_type": "code",
   "execution_count": 121,
   "metadata": {},
   "outputs": [
    {
     "data": {
      "text/html": [
       "<pre style=\"margin:0px; padding:0px; border:0px;\"><div class=\"qlab-ctr20231211192442883712000\" style=\"overflow:hidden; margin-bottom:0px\"><table style=\"margin:0;\"><th class=\"qlab-hdr20231211192442883712000\" style=\"font-family:var(--jp-code-font-family, monospace); font-size:var(--jp-code-font-size, 13px); line-height:var(--jp-code-line-height, 1.3077);white-space:pre; background:aliceblue; padding:0;\"><b>extracted_num</b></th></table><div class=\"qlab-hdr20231211192442883712000\" style=\"font-family:var(--jp-code-font-family, monospace); font-size:var(--jp-code-font-size, 13px); line-height:var(--jp-code-line-height, 1.3077);white-space:pre;\">-------------</div><div class=\"qlab-bdy20231211192442883712000\" style=\"font-family:var(--jp-code-font-family, monospace); font-size:var(--jp-code-font-size, 13px); line-height:var(--jp-code-line-height, 1.3077);white-space:pre; max-height:300px; overflow:auto;\">54877        \n",
       "</div></div><script>$('.qlab-bdy20231211192442883712000').scroll(function () {$('.qlab-hdr20231211192442883712000').offset({left: $('.qlab-ctr20231211192442883712000').offset().left-1*this.scrollLeft});});</script></pre>"
      ]
     },
     "execution_count": 121,
     "metadata": {
      "text/html": ""
     },
     "output_type": "execute_result"
    },
    {
     "name": "stdout",
     "output_type": "stream",
     "text": [
      "Writing to /lxhome/patilhar/Public/data.csv\n"
     ]
    }
   ],
   "source": [
    "/ using table instead of a loop\n",
    "\n",
    "tbl: flip (enlist `data)!(enlist data)\n",
    "\n",
    "process_tbl:{[row]\n",
    "    str_num: string \"I\"$inter[row`data;.Q.n];\n",
    "    : \"I\"$((first str_num),(last str_num))\n",
    "    }\n",
    "\n",
    "select sum(extracted_num) from \n",
    "    update extracted_num: process_tbl each tbl\n",
    "    from tbl\n",
    "\n",
    ".hp.write_csv[update extracted_num: process_tbl each tbl from tbl]\n"
   ]
  },
  {
   "cell_type": "code",
   "execution_count": 188,
   "metadata": {},
   "outputs": [
    {
     "data": {
      "text/plain": [
       "68i\n"
      ]
     },
     "execution_count": 188,
     "metadata": {},
     "output_type": "execute_result"
    },
    {
     "data": {
      "text/html": [
       "<pre style=\"margin:0px; padding:0px; border:0px;\"><div class=\"qlab-ctr20231212221016942496000\" style=\"overflow:hidden; margin-bottom:0px\"><table style=\"margin:0;\"><th class=\"qlab-hdr20231212221016942496000\" style=\"font-family:var(--jp-code-font-family, monospace); font-size:var(--jp-code-font-size, 13px); line-height:var(--jp-code-line-height, 1.3077);white-space:pre; background:aliceblue; padding:0;\"><b>tbl  </b></th></table><div class=\"qlab-hdr20231212221016942496000\" style=\"font-family:var(--jp-code-font-family, monospace); font-size:var(--jp-code-font-size, 13px); line-height:var(--jp-code-line-height, 1.3077);white-space:pre;\">-----</div><div class=\"qlab-bdy20231212221016942496000\" style=\"font-family:var(--jp-code-font-family, monospace); font-size:var(--jp-code-font-size, 13px); line-height:var(--jp-code-line-height, 1.3077);white-space:pre; max-height:300px; overflow:auto;\">54100\n",
       "</div></div><script>$('.qlab-bdy20231212221016942496000').scroll(function () {$('.qlab-hdr20231212221016942496000').offset({left: $('.qlab-ctr20231212221016942496000').offset().left-1*this.scrollLeft});});</script></pre>"
      ]
     },
     "execution_count": 188,
     "metadata": {
      "text/html": ""
     },
     "output_type": "execute_result"
    }
   ],
   "source": [
    "/ part 2\n",
    "\n",
    "tbl: flip (enlist `data)!(enlist data);\n",
    "conv: flip (`str`nums)!((\"one\";\"two\";\"three\";\"four\";\"five\";\"six\";\"seven\";\"eight\";\"nine\";\"1\";\"2\";\"3\";\"4\";\"5\";\"6\";\"7\";\"8\";\"9\");\n",
    "                        (\"1\";\"2\";\"3\";\"4\";\"5\";\"6\";\"7\";\"8\";\"9\";\"1\";\"2\";\"3\";\"4\";\"5\";\"6\";\"7\";\"8\";\"9\"));\n",
    "\n",
    "convert:{ [data]\n",
    "    .temp.data: data;\n",
    "    conv_order: {`pos`conv!(min ss[.temp.data;x`str];x)} each conv;\n",
    "    first_conv: (first `pos xasc conv_order)`conv;\n",
    "    conv_order: {`pos`conv!(max ss[.temp.data;x`str];x)} each conv;\n",
    "    last_conv: (last `pos xasc conv_order)`conv;\n",
    "    : \"I\"$((first_conv`nums),(last_conv`nums))\n",
    "    };\n",
    "\n",
    "convert[\"65oneightpln\"]\n",
    "\n",
    "select sum({convert x`data} each tbl)\n",
    "    from tbl"
   ]
  },
  {
   "cell_type": "code",
   "execution_count": 53,
   "metadata": {},
   "outputs": [
    {
     "data": {
      "text/plain": [
       "\"four82nine74\"\n",
       "\"hlpqrdh3\"\n",
       "\"eightsevenhrsseven988\"\n"
      ]
     },
     "execution_count": 53,
     "metadata": {},
     "output_type": "execute_result"
    },
    {
     "data": {
      "text/plain": [
       "0N 0N 0N 0N 0N 0N 0N 0N 0N 0N 0N 0N\n",
       "0N 0N 0N 0N 0N 0N 0N 0N\n",
       "0N 0N 0N 0N 0N 0N 0N 0N 0N 0N 0N 0N 0N 0N 0N 0N 0N 0N 0N 0N 0N\n"
      ]
     },
     "execution_count": 53,
     "metadata": {},
     "output_type": "execute_result"
    },
    {
     "data": {
      "text/plain": [
       "4 5 10 11\n",
       ",7\n",
       "18 19 20\n"
      ]
     },
     "execution_count": 53,
     "metadata": {},
     "output_type": "execute_result"
    },
    {
     "data": {
      "text/plain": [
       "8 2 7 4\n",
       ",3\n",
       "9 8 8\n"
      ]
     },
     "execution_count": 53,
     "metadata": {},
     "output_type": "execute_result"
    },
    {
     "data": {
      "text/plain": [
       "0N 0N 0N 0N 8 2 0N 0N 0N 0N 7 4\n",
       "0N 0N 0N 0N 0N 0N 0N 3\n",
       "0N 0N 0N 0N 0N 0N 0N 0N 0N 0N 0N 0N 0N 0N 0N 0N 0N 0N 9 8 8\n"
      ]
     },
     "execution_count": 53,
     "metadata": {},
     "output_type": "execute_result"
    }
   ],
   "source": [
    "/ online solution https://community.kx.com/t5/kdb-and-q/Advent-of-Code-2023/td-p/15315#\n",
    "\n",
    "p: data;\n",
    "numbers: (\"one\";\"two\";\"three\";\"four\";\"five\";\"six\";\"seven\";\"eight\";\"nine\");\n",
    "is: where '[p within 48 58]\n",
    "\n",
    "/ e:(count'[p])#\\:0N;\n",
    "/ e:@[;;:;]'[e;is;\"J\"$/:/:p @' is];\n",
    "/ e: e{@'[;;:;y 0][x;y 1]}/ (1+til 9),'enlist each p ss\\:/: numbers;\n",
    "/ e: except[;0N]'[e];\n",
    "/ sum 10 sv (first'[e];last'[e]);\n",
    "\n",
    "3#p\n",
    "e:(count'[p])#\\:0N;\n",
    "3#e\n",
    "3#is\n",
    "3#\"J\"$/:/:p @' is\n",
    "e:@[;;:;]'[e;is;\"J\"$/:/:p @' is]\n",
    "3#e"
   ]
  },
  {
   "cell_type": "code",
   "execution_count": 52,
   "metadata": {},
   "outputs": [
    {
     "data": {
      "text/plain": [
       "`qwe \"u\" `z\n",
       "`asd \"u\" `v\n"
      ]
     },
     "execution_count": 52,
     "metadata": {},
     "output_type": "execute_result"
    },
    {
     "data": {
      "text/plain": [
       "5\n"
      ]
     },
     "execution_count": 52,
     "metadata": {},
     "output_type": "execute_result"
    }
   ],
   "source": [
    "{x,\"u\",y}'[`qwe`asd;`z`v]\n",
    "f: @[;;:;]\n",
    "f`[(`q`w),(`e`r);1 2]\n",
    "count value [f]"
   ]
  },
  {
   "cell_type": "code",
   "execution_count": 3,
   "metadata": {},
   "outputs": [
    {
     "data": {
      "text/plain": [
       "54877\n"
      ]
     },
     "execution_count": 3,
     "metadata": {},
     "output_type": "execute_result"
    },
    {
     "data": {
      "text/plain": [
       "54100\n"
      ]
     },
     "execution_count": 3,
     "metadata": {},
     "output_type": "execute_result"
    }
   ],
   "source": [
    "/ https://github.com/adotsch/aoc/blob/master/2023/day01.q\n",
    "\n",
    "i:data\n",
    "sum {get (first;last)@\\:x inter .Q.n} each i                       //part 1\n",
    "d:string`one`two`three`four`five`six`seven`eight`nine\n",
    "sum {get (first;last)@\\:@[x;x ss/: d;:;1_.Q.n] inter .Q.n} each i  //part 2"
   ]
  },
  {
   "cell_type": "code",
   "execution_count": 32,
   "metadata": {},
   "outputs": [
    {
     "data": {
      "text/plain": [
       "68\n"
      ]
     },
     "execution_count": 32,
     "metadata": {},
     "output_type": "execute_result"
    },
    {
     "data": {
      "text/plain": [
       "\"65\"\n"
      ]
     },
     "execution_count": 32,
     "metadata": {},
     "output_type": "execute_result"
    },
    {
     "data": {
      "text/plain": [
       "\"651n8ightpln\"\n"
      ]
     },
     "execution_count": 32,
     "metadata": {},
     "output_type": "execute_result"
    },
    {
     "data": {
      "text/plain": [
       "\"6518\"\n"
      ]
     },
     "execution_count": 32,
     "metadata": {},
     "output_type": "execute_result"
    },
    {
     "data": {
      "text/plain": [
       "\"qasd65oneightpln\"\n",
       "\"wasd65oneightpln\"\n"
      ]
     },
     "execution_count": 32,
     "metadata": {},
     "output_type": "execute_result"
    },
    {
     "data": {
      "text/plain": [
       "\"qasd\"\n"
      ]
     },
     "execution_count": 32,
     "metadata": {},
     "output_type": "execute_result"
    }
   ],
   "source": [
    "str: \"65oneightpln\"\n",
    "{get (first;last)@\\:@[x;x ss/: d;:;1_.Q.n] inter .Q.n} str\n",
    "str inter .Q.n\n",
    "\n",
    "/ amend at https://code.kx.com/q/ref/amend/\n",
    "@[str; str ss/: d;:;1_.Q.n]\n",
    "{@[x;x ss/: d;:;1_.Q.n] inter .Q.n} str\n",
    "\n",
    "/ each left requires @\n",
    "{({\"q\",x},{\"w\",x})@\\:\"asd\",x} str\n",
    "{\"q\",x}@\\:\"asd\""
   ]
  }
 ],
 "metadata": {
  "kernelspec": {
   "display_name": "Q 4.0",
   "language": "q",
   "name": "jupyterq4.0"
  },
  "language_info": {
   "file_extension": ".q",
   "mimetype": "text/x-q",
   "name": "q",
   "version": "4.0"
  },
  "orig_nbformat": 4
 },
 "nbformat": 4,
 "nbformat_minor": 2
}
