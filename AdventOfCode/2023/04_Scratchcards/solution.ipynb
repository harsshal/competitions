{
 "cells": [
  {
   "cell_type": "code",
   "execution_count": 1,
   "metadata": {},
   "outputs": [
    {
     "data": {
      "text/plain": [
       "\"Card 1: 41 48 83 86 17 | 83 86  6 31 17  9 48 53\"\n",
       "\"Card 2: 13 32 20 16 61 | 61 30 68 82 17 32 24 19\"\n",
       "\"Card 3:  1 21 53 59 44 | 69 82 63 72 16 21 14  1\"\n",
       "\"Card 4: 41 92 73 84 69 | 59 84 76 51 58  5 54 83\"\n",
       "\"Card 5: 87 83 26 28 32 | 88 30 70 12 93 22 82 36\"\n",
       "\"Card 6: 31 18 13 56 72 | 74 77 10 23 35 67 36 11\"\n"
      ]
     },
     "execution_count": 1,
     "metadata": {},
     "output_type": "execute_result"
    }
   ],
   "source": [
    "data: read0 `:/lxhome/patilhar/notebooks/templates/q/competitions/AdventOfCode/2023/04_Scratchcards/sample_input.txt\n",
    "data"
   ]
  },
  {
   "cell_type": "code",
   "execution_count": 156,
   "metadata": {},
   "outputs": [
    {
     "data": {
      "text/plain": [
       "\"Card   1: 30 48 49 69  1 86 94 68 12 85 | 86 57 89  8 81 85 82 68  1 22 90  ..\n",
       "\"Card   2: 57 32 92 73 76 62 11 19 61 90 | 19 82 53 87 57 80 69 76 90 56 11 6..\n",
       "\"Card   3:  6 56 40  1 47 26 25 87  4  2 | 12 26 32 25  8  4 41 54 69 99  2 4..\n",
       "\"Card   4: 26 49 44 82 25 43 47 74 97 13 | 76 62 13 82 55 26 93 84 83 19 47 2..\n",
       "\"Card   5: 88 58 96 80 56 16 55 13  3 40 | 20 57 23 71 76 43 36 72 52 18 60 2..\n",
       "\"Card   6: 89 88 34 62 60 41 15 42 57 58 | 58 49 82 42 70 78 72 57 77 47 62 8..\n",
       "\"Card   7: 97 73 29 26 91 16 66 64 70 23 |  3 12 61 11 70 59 71  1 26 44 14 6..\n",
       "\"Card   8:  9 33 46 87 34 97 71 30  5 43 | 21 64  8 43 77  9 20 46 10 19 53 3..\n",
       "\"Card   9: 72 41 12 58  8 56 11 82 22 66 | 27 97 48 14 77 37 33 91 85 39 75 4..\n",
       "\"Card  10:  3 46 56  2 58  4 92 80 86 52 | 15 56 91 57 61  8 87 34 51  3 23 4..\n",
       "\"Card  11: 76 94  4 55 97  8 22 99 80 70 | 64 75 23 49 42  1 66 54 85 29 28 9..\n",
       "\"Card  12: 65 91  7 24 80 20 46 29 58 57 | 51 59 52 63 28 44 62 35 46 49 24 1..\n",
       "\"Card  13: 98 94 55 43 83 72 19 46 45 22 | 55 67 59 91 46 37 24 52 98  4 72 2..\n",
       "\"Card  14: 92 51 81  6  5 91 73  9 80 94 | 56 72 71 32 92 98 15  2 10 91 62  ..\n",
       "\"Card  15: 84 40 87 91  3 61 20 73  2 37 | 77  3 37 81 20  9 51  2 87 73 53 6..\n",
       "\"Card  16: 97 63 52 67 86 87 91 25 69 43 | 68 67 75  3 85 10 88 99 52 43 95 9..\n",
       "\"Card  17: 28 90 77 78 52  7 94 13  6 88 | 11 69 49 56 59 14  7 24 53 21 67  ..\n",
       "\"Card  18: 50 22 25 69 54  4 37 14 49 75 | 82 84 78 88 87 15 80  1 11 91 89 9..\n",
       "\"Card  19: 96 56 86 38 29 43 69 66 26 46 | 80 13 90 30 41 86 44 95 71 23 40 7..\n",
       "\"Card  20: 95 26 31 69 63 25 56 87 74 48 | 88 16 42 22 30 14 71 62 35 87 99  ..\n",
       "\"Card  21: 75 76 94 26 24 56 34 35 93 87 | 42 23 71 55 44 79 12  4 78 32 82 5..\n",
       "\"Card  22: 53 58 25 33 42 98 94 95 97 22 | 44 91 40  1 88 31 61  6 54 52 47 9..\n",
       "..\n"
      ]
     },
     "execution_count": 156,
     "metadata": {},
     "output_type": "execute_result"
    }
   ],
   "source": [
    "data: read0 `:/lxhome/patilhar/notebooks/templates/q/competitions/AdventOfCode/2023/04_Scratchcards/final_input.txt\n",
    "data"
   ]
  },
  {
   "cell_type": "code",
   "execution_count": 55,
   "metadata": {},
   "outputs": [
    {
     "data": {
      "text/plain": [
       "21485i\n"
      ]
     },
     "execution_count": 55,
     "metadata": {},
     "output_type": "execute_result"
    }
   ],
   "source": [
    "calc_match:{\n",
    "    nums: ({\"J\"$x}\" \" vs last \"|\" vs x) except 0N;\n",
    "    wins: ({\"J\"$x}\" \" vs last \":\" vs first \"|\" vs x) except 0N;\n",
    "    count nums inter wins \n",
    "    }\n",
    "\n",
    "sum \"i\"$-0.01 + 2 xexp -1 + calc_match each data / -0.01 so that 0.5 can be rounded to down to 0 and others can still be where they are.\n"
   ]
  },
  {
   "cell_type": "code",
   "execution_count": 158,
   "metadata": {},
   "outputs": [
    {
     "data": {
      "text/plain": [
       "10 10 10 10 2 10 5 10 2 4 4 7 9 3 8 4 2 2 2 1 2 1 0 10 9 5 0 6 5 7 4 4 0 3 2 ..\n"
      ]
     },
     "execution_count": 158,
     "metadata": {},
     "output_type": "execute_result"
    }
   ],
   "source": [
    "matches: calc_match each data\n",
    "matches"
   ]
  },
  {
   "cell_type": "code",
   "execution_count": 159,
   "metadata": {},
   "outputs": [
    {
     "data": {
      "text/plain": [
       "11024379\n"
      ]
     },
     "execution_count": 159,
     "metadata": {},
     "output_type": "execute_result"
    }
   ],
   "source": [
    "mat:(count matches)#1;\n",
    "process_matches:{[pos]\n",
    "    {mat[y+x+1]+:mat[y]}[;pos] til each matches[pos]\n",
    "    };\n",
    "\n",
    "process_matches each til count matches;\n",
    "sum mat"
   ]
  },
  {
   "cell_type": "code",
   "execution_count": 14,
   "metadata": {},
   "outputs": [
    {
     "data": {
      "text/plain": [
       "4 2 2 1 0 0\n"
      ]
     },
     "execution_count": 14,
     "metadata": {},
     "output_type": "execute_result"
    },
    {
     "data": {
      "text/plain": [
       "13\n"
      ]
     },
     "execution_count": 14,
     "metadata": {},
     "output_type": "execute_result"
    },
    {
     "data": {
      "text/plain": [
       "30\n"
      ]
     },
     "execution_count": 14,
     "metadata": {},
     "output_type": "execute_result"
    }
   ],
   "source": [
    "/ external solution https://github.com/adotsch/aoc/blob/master/2023/day04.q\n",
    "c:{count .[inter](get')\"|\"vs 9_x}'[data] / Process things only after :, get to convert string into numbers\n",
    "c\n",
    "sum (0,10(2*)\\1) c / created array of 0, powers till 2^10 and pick c elements\n",
    "sum (n#1){@[x;y+1+til c y;+;x y]}/til n:count c   / @[list;index;binary function;argument]"
   ]
  }
 ],
 "metadata": {
  "kernelspec": {
   "display_name": "Q 4.0",
   "language": "q",
   "name": "jupyterq4.0"
  },
  "language_info": {
   "file_extension": ".q",
   "mimetype": "text/x-q",
   "name": "q",
   "version": "4.0"
  },
  "orig_nbformat": 4
 },
 "nbformat": 4,
 "nbformat_minor": 2
}
