{
 "cells": [
  {
   "cell_type": "code",
   "execution_count": 1,
   "metadata": {},
   "outputs": [
    {
     "data": {
      "text/plain": [
       "\"Time:      7  15   30\"\n",
       "\"Distance:  9  40  200\"\n"
      ]
     },
     "execution_count": 1,
     "metadata": {},
     "output_type": "execute_result"
    }
   ],
   "source": [
    "data: read0 `:/lxhome/patilhar/notebooks/templates/q/competitions/AdventOfCode/2023/06_Wait/sample_input.txt\n",
    "data"
   ]
  },
  {
   "cell_type": "code",
   "execution_count": 41,
   "metadata": {},
   "outputs": [
    {
     "data": {
      "text/plain": [
       "\"Time:        47     70     75     66\"\n",
       "\"Distance:   282   1079   1147   1062\"\n"
      ]
     },
     "execution_count": 41,
     "metadata": {},
     "output_type": "execute_result"
    }
   ],
   "source": [
    "data: read0 `:/lxhome/patilhar/notebooks/templates/q/competitions/AdventOfCode/2023/06_Wait/final_input.txt\n",
    "data"
   ]
  },
  {
   "cell_type": "code",
   "execution_count": 10,
   "metadata": {},
   "outputs": [
    {
     "data": {
      "text/plain": [
       "7 15 30 \n",
       "9 40 200\n"
      ]
     },
     "execution_count": 10,
     "metadata": {},
     "output_type": "execute_result"
    }
   ],
   "source": [
    "mat: (get '){10_x}each data\n",
    "mat"
   ]
  },
  {
   "cell_type": "code",
   "execution_count": 42,
   "metadata": {},
   "outputs": [
    {
     "data": {
      "text/plain": [
       "time dist\n",
       "---------\n",
       "47   282 \n",
       "70   1079\n",
       "75   1147\n",
       "66   1062\n"
      ]
     },
     "execution_count": 42,
     "metadata": {},
     "output_type": "execute_result"
    }
   ],
   "source": [
    "tbl:([] time:get 10_data[0];dist:get 10_data[1])\n",
    "tbl"
   ]
  },
  {
   "cell_type": "code",
   "execution_count": 50,
   "metadata": {},
   "outputs": [
    {
     "data": {
      "text/plain": [
       "time     dist           \n",
       "------------------------\n",
       "47707566 282107911471062\n"
      ]
     },
     "execution_count": 50,
     "metadata": {},
     "output_type": "execute_result"
    }
   ],
   "source": [
    "tbl2:([] time:enlist \"J\"$ssr[10_data[0];\" \";\"\"]; dist:enlist \"J\"$ssr[10_data[1];\" \";\"\"])\n",
    "tbl2"
   ]
  },
  {
   "cell_type": "code",
   "execution_count": 51,
   "metadata": {},
   "outputs": [
    {
     "data": {
      "text/plain": [
       "281600i\n"
      ]
     },
     "execution_count": 51,
     "metadata": {},
     "output_type": "execute_result"
    },
    {
     "data": {
      "text/plain": [
       "33875953i\n"
      ]
     },
     "execution_count": 51,
     "metadata": {},
     "output_type": "execute_result"
    }
   ],
   "source": [
    "f:{({x*(y-x)}[;x] til x) > y}\n",
    "prd {sum f[x`time;x`dist]} each tbl\n",
    "prd {sum f[x`time;x`dist]} each tbl2"
   ]
  },
  {
   "cell_type": "code",
   "execution_count": 52,
   "metadata": {},
   "outputs": [
    {
     "data": {
      "text/plain": [
       "281600i\n"
      ]
     },
     "execution_count": 52,
     "metadata": {},
     "output_type": "execute_result"
    },
    {
     "data": {
      "text/plain": [
       "33875953i\n"
      ]
     },
     "execution_count": 52,
     "metadata": {},
     "output_type": "execute_result"
    }
   ],
   "source": [
    "/ external solution https://github.com/adotsch/aoc/blob/master/2023/day06.q\n",
    "i:(get')9_'data\n",
    "f:{sum y<(x-j)*j:til x}\n",
    "prd .[f'] i             //part 1\n",
    "f . \"J\"$(raze')string i //part 2"
   ]
  }
 ],
 "metadata": {
  "kernelspec": {
   "display_name": "Q 4.0",
   "language": "q",
   "name": "jupyterq4.0"
  },
  "language_info": {
   "file_extension": ".q",
   "mimetype": "text/x-q",
   "name": "q",
   "version": "4.0"
  },
  "orig_nbformat": 4
 },
 "nbformat": 4,
 "nbformat_minor": 2
}
